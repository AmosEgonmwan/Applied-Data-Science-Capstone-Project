{
 "cells": [
  {
   "cell_type": "markdown",
   "metadata": {},
   "source": [
    "# Applied Data Science Capstone - Week 4\n",
    "\n",
    "## The Battle of the Neighborhoods - Week 1\n",
    "\n",
    "### INTRODUCTION / BUSINESS PROBLEM\n",
    "\n",
    "### Segmentation and Clustering Neighborhoods of Fredericton, New Brunswick, Canada"
   ]
  },
  {
   "cell_type": "code",
   "execution_count": 2,
   "metadata": {},
   "outputs": [
    {
     "data": {
      "text/html": [
       "<img src=\"http://www.tourismfredericton.ca/sites/default/files/fredericton_new_brunswick_map.png\"/>"
      ],
      "text/plain": [
       "<IPython.core.display.Image object>"
      ]
     },
     "execution_count": 2,
     "metadata": {},
     "output_type": "execute_result"
    }
   ],
   "source": [
    "from IPython.display import Image\n",
    "from IPython.core.display import HTML \n",
    "Image(url= \"http://www.tourismfredericton.ca/sites/default/files/fredericton_new_brunswick_map.png\")"
   ]
  },
  {
   "cell_type": "code",
   "execution_count": 3,
   "metadata": {},
   "outputs": [
    {
     "data": {
      "text/html": [
       "<img src=\"https://www.unb.ca/fredericton/studentservices/_resources/img/sas/neighbourhoodmap.png\"/>"
      ],
      "text/plain": [
       "<IPython.core.display.Image object>"
      ]
     },
     "execution_count": 3,
     "metadata": {},
     "output_type": "execute_result"
    }
   ],
   "source": [
    "from IPython.display import Image\n",
    "from IPython.core.display import HTML \n",
    "Image(url= \"https://www.unb.ca/fredericton/studentservices/_resources/img/sas/neighbourhoodmap.png\")"
   ]
  },
  {
   "cell_type": "markdown",
   "metadata": {},
   "source": [
    "Fredericton is the capital of the Canadian province of New Brunswick. The city is situated in the west-central portion of the province along the Saint John River, which flows west to east as it bisects the city. In the year 2016, the city had a population of 58,220 inhabitants. As a provincial capital, its economy is tied to the public sector; however, the city also contains a growing IT and commercial sector. The city has the highest percentage of residents with a post-secondary education in the province and one of the highest per capita incomes.\n",
    "\n",
    "As the population of the city continues to increase, particularly due to the increasing proportion of immigrants in the city, the crime rate is gradually increasing as well. As a result, the municipal/provincial government, city planners, entrepreneurs/investors need to have a better understanding of the dynamics of the population in the neighborhoods.\n",
    "\n",
    "Furthermore, a family with kids who intend to settle in the city might want to know the different types of crime prevalent in the city. They might also be interested in knowing the safest neighborhood in the city where they can safely raise their kids.\n",
    "\n",
    "Main Questions to be Considered: \n",
    "1. What are the geographical coordinates of Fredericton and its neighborhoods?\n",
    "\n",
    "2. Which Fredericton neighbourhoods have the highest crime count?\n",
    "\n",
    "3. What is the count of the different crime types in Fredericton?\n",
    "\n",
    "4. Which neighbourhoods are the safest in Fredericton?\n",
    "\n",
    "5. What insight about the different neighbourhoods can be obtained by using the Foursquare data?\n"
   ]
  },
  {
   "cell_type": "markdown",
   "metadata": {},
   "source": [
    "### DATA\n",
    "\n"
   ]
  },
  {
   "cell_type": "markdown",
   "metadata": {},
   "source": [
    "In order to perform segmentation and clustering of the neighbourhoods of Fredericton with a view to understanding the crime type patterns and frequency, we make use of the following open datasets:\n",
    "\n",
    "    1. Crime by neighbourhood 2017 / Crime par quartier 2017 \n",
    "http://data-fredericton.opendata.arcgis.com/datasets/0ff4acd0a2a14096984f85c06fe4e38e_0\n",
    "\n",
    "    2. Census Profile, 2016 Census - Fredericton [Population centre], New Brunswick and New Brunswick [Province]\n",
    "https://www12.statcan.gc.ca/census-recensement/2016/dp-pd/prof/details/page.cfm?Lang=E&Geo1=POPC&Code1=0305&Geo2=PR&Code2=13&Data=Count&SearchText=Fredericton&SearchType=Begins&SearchPR=01&B1=All&GeoLevel=PR&GeoCode=0305&TABID=1\n",
    "\n",
    "    3.Fredericton - City, New Brunswick, Canada\n",
    "http://www.city-data.com/canada/Fredericton-City.html\n",
    "\n",
    "\n",
    "    4. FrederictonCity Centre   Plan\n",
    "http://www.fredericton.ca/sites/default/files/pdf/2015feb18-citycentreplan-web.pdf\n",
    "\n",
    "    5. Fredericton - Wikipedia \n",
    "https://en.wikipedia.org/wiki/Fredericton\n"
   ]
  }
 ],
 "metadata": {
  "kernelspec": {
   "display_name": "Python 3",
   "language": "python",
   "name": "python3"
  },
  "language_info": {
   "codemirror_mode": {
    "name": "ipython",
    "version": 3
   },
   "file_extension": ".py",
   "mimetype": "text/x-python",
   "name": "python",
   "nbconvert_exporter": "python",
   "pygments_lexer": "ipython3",
   "version": "3.6.8"
  }
 },
 "nbformat": 4,
 "nbformat_minor": 2
}
